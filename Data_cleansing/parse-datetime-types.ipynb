{
 "cells": [
  {
   "cell_type": "code",
   "execution_count": 60,
   "id": "7788ec1e",
   "metadata": {},
   "outputs": [],
   "source": [
    "import pandas as pd\n",
    "import re\n",
    "import csv"
   ]
  },
  {
   "cell_type": "code",
   "execution_count": 95,
   "id": "cf92e9b7",
   "metadata": {},
   "outputs": [
    {
     "data": {
      "text/html": [
       "<div>\n",
       "<style scoped>\n",
       "    .dataframe tbody tr th:only-of-type {\n",
       "        vertical-align: middle;\n",
       "    }\n",
       "\n",
       "    .dataframe tbody tr th {\n",
       "        vertical-align: top;\n",
       "    }\n",
       "\n",
       "    .dataframe thead th {\n",
       "        text-align: right;\n",
       "    }\n",
       "</style>\n",
       "<table border=\"1\" class=\"dataframe\">\n",
       "  <thead>\n",
       "    <tr style=\"text-align: right;\">\n",
       "      <th></th>\n",
       "      <th>company_code</th>\n",
       "      <th>doc_No</th>\n",
       "      <th>plant</th>\n",
       "      <th>ship_point</th>\n",
       "      <th>store_location</th>\n",
       "      <th>sales_order_item</th>\n",
       "      <th>doc_category</th>\n",
       "      <th>doc_type</th>\n",
       "      <th>bill_to_party</th>\n",
       "      <th>payer</th>\n",
       "      <th>...</th>\n",
       "      <th>bill_No</th>\n",
       "      <th>cal_date</th>\n",
       "      <th>base_unit</th>\n",
       "      <th>doc_currency</th>\n",
       "      <th>sale_unit</th>\n",
       "      <th>bill_quantity</th>\n",
       "      <th>exchange_rate</th>\n",
       "      <th>tax</th>\n",
       "      <th>subtot5</th>\n",
       "      <th>subtot6</th>\n",
       "    </tr>\n",
       "  </thead>\n",
       "  <tbody>\n",
       "    <tr>\n",
       "      <th>0</th>\n",
       "      <td>1100</td>\n",
       "      <td>4.051014e+09</td>\n",
       "      <td>1100</td>\n",
       "      <td>1200.0</td>\n",
       "      <td>NaN</td>\n",
       "      <td>10</td>\n",
       "      <td>M</td>\n",
       "      <td>ZCS</td>\n",
       "      <td>14000005</td>\n",
       "      <td>14000005</td>\n",
       "      <td>...</td>\n",
       "      <td>4065001389</td>\n",
       "      <td>1/5/2022</td>\n",
       "      <td>PC</td>\n",
       "      <td>IRR</td>\n",
       "      <td>PC</td>\n",
       "      <td>62.0</td>\n",
       "      <td>1.0</td>\n",
       "      <td>6,825.69</td>\n",
       "      <td>7,584,097.78</td>\n",
       "      <td>0</td>\n",
       "    </tr>\n",
       "    <tr>\n",
       "      <th>1</th>\n",
       "      <td>1100</td>\n",
       "      <td>4.051007e+09</td>\n",
       "      <td>1100</td>\n",
       "      <td>1200.0</td>\n",
       "      <td>PCP1</td>\n",
       "      <td>20</td>\n",
       "      <td>M</td>\n",
       "      <td>ZST</td>\n",
       "      <td>13000466</td>\n",
       "      <td>13000466</td>\n",
       "      <td>...</td>\n",
       "      <td>4091003940</td>\n",
       "      <td>8/29/2021</td>\n",
       "      <td>PC</td>\n",
       "      <td>IRR</td>\n",
       "      <td>PC</td>\n",
       "      <td>13000.0</td>\n",
       "      <td>1.0</td>\n",
       "      <td>289,220.18</td>\n",
       "      <td>331,294,597.22</td>\n",
       "      <td>-9,938,837.78</td>\n",
       "    </tr>\n",
       "    <tr>\n",
       "      <th>2</th>\n",
       "      <td>1100</td>\n",
       "      <td>4.051014e+09</td>\n",
       "      <td>1100</td>\n",
       "      <td>1200.0</td>\n",
       "      <td>PCP1</td>\n",
       "      <td>20</td>\n",
       "      <td>M</td>\n",
       "      <td>ZST</td>\n",
       "      <td>13001134</td>\n",
       "      <td>13001134</td>\n",
       "      <td>...</td>\n",
       "      <td>4091007143</td>\n",
       "      <td>1/1/2022</td>\n",
       "      <td>PC</td>\n",
       "      <td>IRR</td>\n",
       "      <td>PC</td>\n",
       "      <td>10000.0</td>\n",
       "      <td>1.0</td>\n",
       "      <td>222,477.07</td>\n",
       "      <td>254,841,997.78</td>\n",
       "      <td>-7,645,260.00</td>\n",
       "    </tr>\n",
       "    <tr>\n",
       "      <th>3</th>\n",
       "      <td>1100</td>\n",
       "      <td>9.951016e+09</td>\n",
       "      <td>1100</td>\n",
       "      <td>1200.0</td>\n",
       "      <td>PCP1</td>\n",
       "      <td>20</td>\n",
       "      <td>M</td>\n",
       "      <td>ZST</td>\n",
       "      <td>13001197</td>\n",
       "      <td>13001197</td>\n",
       "      <td>...</td>\n",
       "      <td>9991009062</td>\n",
       "      <td>12/14/2020</td>\n",
       "      <td>PC</td>\n",
       "      <td>IRR</td>\n",
       "      <td>PC</td>\n",
       "      <td>56000.0</td>\n",
       "      <td>1.0</td>\n",
       "      <td>1,245,871.56</td>\n",
       "      <td>1,427,115,188.33</td>\n",
       "      <td>-42,813,455.56</td>\n",
       "    </tr>\n",
       "    <tr>\n",
       "      <th>4</th>\n",
       "      <td>1100</td>\n",
       "      <td>9.951014e+09</td>\n",
       "      <td>1100</td>\n",
       "      <td>1200.0</td>\n",
       "      <td>PCP1</td>\n",
       "      <td>20</td>\n",
       "      <td>M</td>\n",
       "      <td>ZST</td>\n",
       "      <td>13000210</td>\n",
       "      <td>13000210</td>\n",
       "      <td>...</td>\n",
       "      <td>9991008003</td>\n",
       "      <td>11/11/2020</td>\n",
       "      <td>PC</td>\n",
       "      <td>IRR</td>\n",
       "      <td>PC</td>\n",
       "      <td>33000.0</td>\n",
       "      <td>1.0</td>\n",
       "      <td>734,174.31</td>\n",
       "      <td>840,978,593.33</td>\n",
       "      <td>-25,229,357.78</td>\n",
       "    </tr>\n",
       "  </tbody>\n",
       "</table>\n",
       "<p>5 rows × 36 columns</p>\n",
       "</div>"
      ],
      "text/plain": [
       "   company_code        doc_No  plant  ship_point store_location  \\\n",
       "0          1100  4.051014e+09   1100      1200.0            NaN   \n",
       "1          1100  4.051007e+09   1100      1200.0           PCP1   \n",
       "2          1100  4.051014e+09   1100      1200.0           PCP1   \n",
       "3          1100  9.951016e+09   1100      1200.0           PCP1   \n",
       "4          1100  9.951014e+09   1100      1200.0           PCP1   \n",
       "\n",
       "   sales_order_item doc_category doc_type  bill_to_party     payer  ...  \\\n",
       "0                10            M      ZCS       14000005  14000005  ...   \n",
       "1                20            M      ZST       13000466  13000466  ...   \n",
       "2                20            M      ZST       13001134  13001134  ...   \n",
       "3                20            M      ZST       13001197  13001197  ...   \n",
       "4                20            M      ZST       13000210  13000210  ...   \n",
       "\n",
       "      bill_No    cal_date base_unit doc_currency sale_unit  bill_quantity  \\\n",
       "0  4065001389    1/5/2022        PC          IRR        PC           62.0   \n",
       "1  4091003940   8/29/2021        PC          IRR        PC        13000.0   \n",
       "2  4091007143    1/1/2022        PC          IRR        PC        10000.0   \n",
       "3  9991009062  12/14/2020        PC          IRR        PC        56000.0   \n",
       "4  9991008003  11/11/2020        PC          IRR        PC        33000.0   \n",
       "\n",
       "  exchange_rate           tax           subtot5         subtot6  \n",
       "0           1.0      6,825.69      7,584,097.78               0  \n",
       "1           1.0    289,220.18    331,294,597.22   -9,938,837.78  \n",
       "2           1.0    222,477.07    254,841,997.78   -7,645,260.00  \n",
       "3           1.0  1,245,871.56  1,427,115,188.33  -42,813,455.56  \n",
       "4           1.0    734,174.31    840,978,593.33  -25,229,357.78  \n",
       "\n",
       "[5 rows x 36 columns]"
      ]
     },
     "execution_count": 95,
     "metadata": {},
     "output_type": "execute_result"
    }
   ],
   "source": [
    "data = pd.read_csv(\"C:\\\\Users\\\\1234\\\\Desktop\\\\Academy_SD_Data_import.csv\")\n",
    "data.head()"
   ]
  },
  {
   "cell_type": "code",
   "execution_count": 96,
   "id": "312d7a26",
   "metadata": {},
   "outputs": [],
   "source": [
    "datetime_types = [\n",
    "    '\\d{1,2}\\/\\d{1,2}\\/\\d{4}',\n",
    "]\n",
    "datetime_templates = f'({\"|\".join(datetime_types)})'"
   ]
  },
  {
   "cell_type": "code",
   "execution_count": 97,
   "id": "32780fad",
   "metadata": {},
   "outputs": [
    {
     "data": {
      "text/plain": [
       "0           1/8/2022\n",
       "1          8/29/2021\n",
       "2           1/1/2022\n",
       "3         12/14/2020\n",
       "4         11/11/2020\n",
       "             ...    \n",
       "907136     3/13/2021\n",
       "907137     9/28/2021\n",
       "907138     4/13/2021\n",
       "907139     9/28/2016\n",
       "907140      9/4/2019\n",
       "Name: creation_date, Length: 907141, dtype: object"
      ]
     },
     "execution_count": 97,
     "metadata": {},
     "output_type": "execute_result"
    }
   ],
   "source": [
    "creation_dates = data['creation_date']\n",
    "creation_dates"
   ]
  },
  {
   "cell_type": "code",
   "execution_count": 98,
   "id": "1564c145",
   "metadata": {},
   "outputs": [
    {
     "data": {
      "text/plain": [
       "<re.Match object; span=(0, 8), match='1/8/2022'>"
      ]
     },
     "execution_count": 98,
     "metadata": {},
     "output_type": "execute_result"
    }
   ],
   "source": [
    "result = re.search(datetime_templates, str(creation_dates[0]))\n",
    "result"
   ]
  },
  {
   "cell_type": "code",
   "execution_count": 99,
   "id": "21e010d9",
   "metadata": {},
   "outputs": [
    {
     "data": {
      "text/plain": [
       "('1/8/2022',)"
      ]
     },
     "execution_count": 99,
     "metadata": {},
     "output_type": "execute_result"
    }
   ],
   "source": [
    "result.groups()"
   ]
  },
  {
   "cell_type": "code",
   "execution_count": 100,
   "id": "f8ea83f5",
   "metadata": {},
   "outputs": [
    {
     "data": {
      "text/plain": [
       "0           1/8/2022\n",
       "1          8/29/2021\n",
       "2           1/1/2022\n",
       "3         12/14/2020\n",
       "4         11/11/2020\n",
       "             ...    \n",
       "907136     3/13/2021\n",
       "907137     9/28/2021\n",
       "907138     4/13/2021\n",
       "907139     9/28/2016\n",
       "907140      9/4/2019\n",
       "Name: creation_date, Length: 907141, dtype: object"
      ]
     },
     "execution_count": 100,
     "metadata": {},
     "output_type": "execute_result"
    }
   ],
   "source": [
    "def convert_datetime_format(value):\n",
    "    result = re.search(datetime_templates, str(value))\n",
    "    return f'{result.group(3)}-{result.group(1)}-{result.group(2)}'\n",
    "\n",
    "creation_dates = data['creation_date']\n",
    "creation_dates"
   ]
  },
  {
   "cell_type": "code",
   "execution_count": 101,
   "id": "f4ab7011",
   "metadata": {},
   "outputs": [
    {
     "ename": "IndexError",
     "evalue": "no such group",
     "output_type": "error",
     "traceback": [
      "\u001b[1;31m---------------------------------------------------------------------------\u001b[0m",
      "\u001b[1;31mIndexError\u001b[0m                                Traceback (most recent call last)",
      "Cell \u001b[1;32mIn[101], line 1\u001b[0m\n\u001b[1;32m----> 1\u001b[0m data[\u001b[38;5;124m'\u001b[39m\u001b[38;5;124mcreation_date\u001b[39m\u001b[38;5;124m'\u001b[39m] \u001b[38;5;241m=\u001b[39m \u001b[43mdata\u001b[49m\u001b[43m[\u001b[49m\u001b[38;5;124;43m'\u001b[39;49m\u001b[38;5;124;43mcreation_date\u001b[39;49m\u001b[38;5;124;43m'\u001b[39;49m\u001b[43m]\u001b[49m\u001b[38;5;241;43m.\u001b[39;49m\u001b[43mapply\u001b[49m\u001b[43m(\u001b[49m\u001b[43mconvert_datetime_format\u001b[49m\u001b[43m)\u001b[49m\n",
      "File \u001b[1;32m~\\AppData\\Local\\Programs\\Python\\Python311\\Lib\\site-packages\\pandas\\core\\series.py:4630\u001b[0m, in \u001b[0;36mSeries.apply\u001b[1;34m(self, func, convert_dtype, args, **kwargs)\u001b[0m\n\u001b[0;32m   4520\u001b[0m \u001b[38;5;28;01mdef\u001b[39;00m \u001b[38;5;21mapply\u001b[39m(\n\u001b[0;32m   4521\u001b[0m     \u001b[38;5;28mself\u001b[39m,\n\u001b[0;32m   4522\u001b[0m     func: AggFuncType,\n\u001b[1;32m   (...)\u001b[0m\n\u001b[0;32m   4525\u001b[0m     \u001b[38;5;241m*\u001b[39m\u001b[38;5;241m*\u001b[39mkwargs,\n\u001b[0;32m   4526\u001b[0m ) \u001b[38;5;241m-\u001b[39m\u001b[38;5;241m>\u001b[39m DataFrame \u001b[38;5;241m|\u001b[39m Series:\n\u001b[0;32m   4527\u001b[0m \u001b[38;5;250m    \u001b[39m\u001b[38;5;124;03m\"\"\"\u001b[39;00m\n\u001b[0;32m   4528\u001b[0m \u001b[38;5;124;03m    Invoke function on values of Series.\u001b[39;00m\n\u001b[0;32m   4529\u001b[0m \n\u001b[1;32m   (...)\u001b[0m\n\u001b[0;32m   4628\u001b[0m \u001b[38;5;124;03m    dtype: float64\u001b[39;00m\n\u001b[0;32m   4629\u001b[0m \u001b[38;5;124;03m    \"\"\"\u001b[39;00m\n\u001b[1;32m-> 4630\u001b[0m     \u001b[38;5;28;01mreturn\u001b[39;00m \u001b[43mSeriesApply\u001b[49m\u001b[43m(\u001b[49m\u001b[38;5;28;43mself\u001b[39;49m\u001b[43m,\u001b[49m\u001b[43m \u001b[49m\u001b[43mfunc\u001b[49m\u001b[43m,\u001b[49m\u001b[43m \u001b[49m\u001b[43mconvert_dtype\u001b[49m\u001b[43m,\u001b[49m\u001b[43m \u001b[49m\u001b[43margs\u001b[49m\u001b[43m,\u001b[49m\u001b[43m \u001b[49m\u001b[43mkwargs\u001b[49m\u001b[43m)\u001b[49m\u001b[38;5;241;43m.\u001b[39;49m\u001b[43mapply\u001b[49m\u001b[43m(\u001b[49m\u001b[43m)\u001b[49m\n",
      "File \u001b[1;32m~\\AppData\\Local\\Programs\\Python\\Python311\\Lib\\site-packages\\pandas\\core\\apply.py:1025\u001b[0m, in \u001b[0;36mSeriesApply.apply\u001b[1;34m(self)\u001b[0m\n\u001b[0;32m   1022\u001b[0m     \u001b[38;5;28;01mreturn\u001b[39;00m \u001b[38;5;28mself\u001b[39m\u001b[38;5;241m.\u001b[39mapply_str()\n\u001b[0;32m   1024\u001b[0m \u001b[38;5;66;03m# self.f is Callable\u001b[39;00m\n\u001b[1;32m-> 1025\u001b[0m \u001b[38;5;28;01mreturn\u001b[39;00m \u001b[38;5;28;43mself\u001b[39;49m\u001b[38;5;241;43m.\u001b[39;49m\u001b[43mapply_standard\u001b[49m\u001b[43m(\u001b[49m\u001b[43m)\u001b[49m\n",
      "File \u001b[1;32m~\\AppData\\Local\\Programs\\Python\\Python311\\Lib\\site-packages\\pandas\\core\\apply.py:1076\u001b[0m, in \u001b[0;36mSeriesApply.apply_standard\u001b[1;34m(self)\u001b[0m\n\u001b[0;32m   1074\u001b[0m     \u001b[38;5;28;01melse\u001b[39;00m:\n\u001b[0;32m   1075\u001b[0m         values \u001b[38;5;241m=\u001b[39m obj\u001b[38;5;241m.\u001b[39mastype(\u001b[38;5;28mobject\u001b[39m)\u001b[38;5;241m.\u001b[39m_values\n\u001b[1;32m-> 1076\u001b[0m         mapped \u001b[38;5;241m=\u001b[39m \u001b[43mlib\u001b[49m\u001b[38;5;241;43m.\u001b[39;49m\u001b[43mmap_infer\u001b[49m\u001b[43m(\u001b[49m\n\u001b[0;32m   1077\u001b[0m \u001b[43m            \u001b[49m\u001b[43mvalues\u001b[49m\u001b[43m,\u001b[49m\n\u001b[0;32m   1078\u001b[0m \u001b[43m            \u001b[49m\u001b[43mf\u001b[49m\u001b[43m,\u001b[49m\n\u001b[0;32m   1079\u001b[0m \u001b[43m            \u001b[49m\u001b[43mconvert\u001b[49m\u001b[38;5;241;43m=\u001b[39;49m\u001b[38;5;28;43mself\u001b[39;49m\u001b[38;5;241;43m.\u001b[39;49m\u001b[43mconvert_dtype\u001b[49m\u001b[43m,\u001b[49m\n\u001b[0;32m   1080\u001b[0m \u001b[43m        \u001b[49m\u001b[43m)\u001b[49m\n\u001b[0;32m   1082\u001b[0m \u001b[38;5;28;01mif\u001b[39;00m \u001b[38;5;28mlen\u001b[39m(mapped) \u001b[38;5;129;01mand\u001b[39;00m \u001b[38;5;28misinstance\u001b[39m(mapped[\u001b[38;5;241m0\u001b[39m], ABCSeries):\n\u001b[0;32m   1083\u001b[0m     \u001b[38;5;66;03m# GH#43986 Need to do list(mapped) in order to get treated as nested\u001b[39;00m\n\u001b[0;32m   1084\u001b[0m     \u001b[38;5;66;03m#  See also GH#25959 regarding EA support\u001b[39;00m\n\u001b[0;32m   1085\u001b[0m     \u001b[38;5;28;01mreturn\u001b[39;00m obj\u001b[38;5;241m.\u001b[39m_constructor_expanddim(\u001b[38;5;28mlist\u001b[39m(mapped), index\u001b[38;5;241m=\u001b[39mobj\u001b[38;5;241m.\u001b[39mindex)\n",
      "File \u001b[1;32m~\\AppData\\Local\\Programs\\Python\\Python311\\Lib\\site-packages\\pandas\\_libs\\lib.pyx:2834\u001b[0m, in \u001b[0;36mpandas._libs.lib.map_infer\u001b[1;34m()\u001b[0m\n",
      "Cell \u001b[1;32mIn[100], line 3\u001b[0m, in \u001b[0;36mconvert_datetime_format\u001b[1;34m(value)\u001b[0m\n\u001b[0;32m      1\u001b[0m \u001b[38;5;28;01mdef\u001b[39;00m \u001b[38;5;21mconvert_datetime_format\u001b[39m(value):\n\u001b[0;32m      2\u001b[0m     result \u001b[38;5;241m=\u001b[39m re\u001b[38;5;241m.\u001b[39msearch(datetime_templates, \u001b[38;5;28mstr\u001b[39m(value))\n\u001b[1;32m----> 3\u001b[0m     \u001b[38;5;28;01mreturn\u001b[39;00m \u001b[38;5;124mf\u001b[39m\u001b[38;5;124m'\u001b[39m\u001b[38;5;132;01m{\u001b[39;00m\u001b[43mresult\u001b[49m\u001b[38;5;241;43m.\u001b[39;49m\u001b[43mgroup\u001b[49m\u001b[43m(\u001b[49m\u001b[38;5;241;43m3\u001b[39;49m\u001b[43m)\u001b[49m\u001b[38;5;132;01m}\u001b[39;00m\u001b[38;5;124m-\u001b[39m\u001b[38;5;132;01m{\u001b[39;00mresult\u001b[38;5;241m.\u001b[39mgroup(\u001b[38;5;241m1\u001b[39m)\u001b[38;5;132;01m}\u001b[39;00m\u001b[38;5;124m-\u001b[39m\u001b[38;5;132;01m{\u001b[39;00mresult\u001b[38;5;241m.\u001b[39mgroup(\u001b[38;5;241m2\u001b[39m)\u001b[38;5;132;01m}\u001b[39;00m\u001b[38;5;124m'\u001b[39m\n",
      "\u001b[1;31mIndexError\u001b[0m: no such group"
     ]
    }
   ],
   "source": [
    "data['creation_date'] = data['creation_date'].apply(convert_datetime_format)"
   ]
  },
  {
   "cell_type": "code",
   "execution_count": 85,
   "id": "b26e64d2",
   "metadata": {},
   "outputs": [
    {
     "data": {
      "text/plain": [
       "0           None-1/8/2022-None\n",
       "1          None-8/29/2021-None\n",
       "2           None-1/1/2022-None\n",
       "3         None-12/14/2020-None\n",
       "4         None-11/11/2020-None\n",
       "                  ...         \n",
       "907136     None-3/13/2021-None\n",
       "907137     None-9/28/2021-None\n",
       "907138     None-4/13/2021-None\n",
       "907139     None-9/28/2016-None\n",
       "907140      None-9/4/2019-None\n",
       "Name: creation_date, Length: 907141, dtype: object"
      ]
     },
     "execution_count": 85,
     "metadata": {},
     "output_type": "execute_result"
    }
   ],
   "source": [
    "data['creation_date']"
   ]
  },
  {
   "cell_type": "code",
   "execution_count": null,
   "id": "2a635391",
   "metadata": {},
   "outputs": [],
   "source": [
    "data['price_date'] = data['price_date'].apply(convert_datetime_format)\n",
    "data['price_date']"
   ]
  },
  {
   "cell_type": "code",
   "execution_count": null,
   "id": "ca893b12",
   "metadata": {},
   "outputs": [],
   "source": [
    "data['cal_date'] = data['cal_date'].apply(convert_datetime_format)\n",
    "data['cal_date']\n",
    "data.head()"
   ]
  },
  {
   "cell_type": "code",
   "execution_count": null,
   "id": "8f5f6cf9",
   "metadata": {},
   "outputs": [],
   "source": [
    "data.to_csv('C:\\\\Users\\\\1234\\\\Desktop\\\\Academy_SD_Data_import_final.csv')"
   ]
  }
 ],
 "metadata": {
  "kernelspec": {
   "display_name": "Python 3 (ipykernel)",
   "language": "python",
   "name": "python3"
  },
  "language_info": {
   "codemirror_mode": {
    "name": "ipython",
    "version": 3
   },
   "file_extension": ".py",
   "mimetype": "text/x-python",
   "name": "python",
   "nbconvert_exporter": "python",
   "pygments_lexer": "ipython3",
   "version": "3.11.2"
  }
 },
 "nbformat": 4,
 "nbformat_minor": 5
}
